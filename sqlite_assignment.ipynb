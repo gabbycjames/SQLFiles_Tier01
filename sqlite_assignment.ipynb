{
 "cells": [
  {
   "cell_type": "code",
   "execution_count": 21,
   "id": "33ff039b-7102-4ee6-8d25-ecb09f9d5454",
   "metadata": {
    "tags": []
   },
   "outputs": [
    {
     "name": "stdout",
     "output_type": "stream",
     "text": [
      "2.6.0\n",
      "2. Query all tasks\n",
      "('Badminton Court', '07-2012', 56, 168)\n",
      "('Badminton Court', '08-2012', 146, 876)\n",
      "('Badminton Court', '09-2012', 181, 543)\n",
      "('Massage Room 1', '07-2012', 123, 246)\n",
      "('Massage Room 1', '08-2012', 224, 448)\n",
      "('Massage Room 1', '09-2012', 282, 564)\n",
      "('Massage Room 2', '07-2012', 12, 24)\n",
      "('Massage Room 2', '08-2012', 40, 80)\n",
      "('Massage Room 2', '09-2012', 59, 118)\n",
      "('Pool Table', '07-2012', 110, 110)\n",
      "('Pool Table', '08-2012', 291, 582)\n",
      "('Pool Table', '09-2012', 435, 435)\n",
      "('Snooker Table', '07-2012', 75, 150)\n",
      "('Snooker Table', '08-2012', 159, 318)\n",
      "('Snooker Table', '09-2012', 210, 420)\n",
      "('Squash Court', '07-2012', 75, 150)\n",
      "('Squash Court', '08-2012', 170, 340)\n",
      "('Squash Court', '09-2012', 195, 1560)\n",
      "('Table Tennis', '07-2012', 51, 102)\n",
      "('Table Tennis', '08-2012', 147, 294)\n",
      "('Table Tennis', '09-2012', 205, 410)\n",
      "('Tennis Court 1', '07-2012', 88, 264)\n",
      "('Tennis Court 1', '08-2012', 146, 438)\n",
      "('Tennis Court 1', '09-2012', 174, 522)\n",
      "('Tennis Court 2', '07-2012', 68, 204)\n",
      "('Tennis Court 2', '08-2012', 149, 1341)\n",
      "('Tennis Court 2', '09-2012', 172, 516)\n"
     ]
    }
   ],
   "source": [
    "import sqlite3\n",
    "from sqlite3 import Error\n",
    "\n",
    " \n",
    "def create_connection(db_file):\n",
    "    \"\"\" create a database connection to the SQLite database\n",
    "        specified by the db_file\n",
    "    :param db_file: database file\n",
    "    :return: Connection object or None\n",
    "    \"\"\"\n",
    "    conn = None\n",
    "    try:\n",
    "        conn = sqlite3.connect(db_file)\n",
    "        print(sqlite3.version)\n",
    "    except Error as e:\n",
    "        print(e)\n",
    " \n",
    "    return conn\n",
    "\n",
    " \n",
    "def select_all_tasks(conn):\n",
    "    \"\"\"\n",
    "    Query all rows in the tasks table\n",
    "    :param conn: the Connection object\n",
    "    :return:\n",
    "    \"\"\"\n",
    "    cur = conn.cursor()\n",
    "    \n",
    "    query1 = \"\"\"\n",
    "        SELECT name, STRFTIME('%m-%Y', starttime) AS month, COUNT(bookid) AS num_bookings, COUNT(bookid)*slots AS slots_used\n",
    "        FROM Bookings\n",
    "        INNER JOIN Facilities\n",
    "        ON Bookings.facid = Facilities.facid\n",
    "        GROUP BY name, STRFTIME('%m-%Y', starttime);\n",
    "        \"\"\"\n",
    "    cur.execute(query1)\n",
    " \n",
    "    rows = cur.fetchall()\n",
    " \n",
    "    for row in rows:\n",
    "        print(row)\n",
    "\n",
    "\n",
    "def main():\n",
    "    database = \"sqlite_db_pythonsqlite.db\"\n",
    " \n",
    "    # create a database connection\n",
    "    conn = create_connection(database)\n",
    "    with conn: \n",
    "        print(\"2. Query all tasks\")\n",
    "        select_all_tasks(conn)\n",
    " \n",
    " \n",
    "if __name__ == '__main__':\n",
    "    main()"
   ]
  },
  {
   "cell_type": "markdown",
   "id": "639b7258-a38d-49b8-8f92-55f946ed4a18",
   "metadata": {
    "tags": []
   },
   "source": [
    "Q10: Produce a list of facilities with a total revenue less than 1000.\n",
    "The output of facility name and total revenue, sorted by revenue. Remember\n",
    "that there's a different cost for guests and members!"
   ]
  },
  {
   "cell_type": "code",
   "execution_count": null,
   "id": "24acb160-03ab-4981-92b3-9b46cd092d66",
   "metadata": {},
   "outputs": [],
   "source": [
    "SELECT name, SUM(membercost), SUM(guestcost)\n",
    "FROM Facilities\n",
    "INNER JOIN Bookings\n",
    "ON Facilities.facid = Bookings.facid\n",
    "GROUP BY name;"
   ]
  },
  {
   "cell_type": "markdown",
   "id": "0420b712-19c0-4102-9db2-641dcf6d927e",
   "metadata": {},
   "source": [
    "Q11: Produce a report of members and who recommended them in alphabetic surname,firstname order"
   ]
  },
  {
   "cell_type": "code",
   "execution_count": 9,
   "id": "72e10739-39c7-43e2-a5c2-b380eb495ece",
   "metadata": {
    "tags": []
   },
   "outputs": [],
   "source": [
    "#SELECT CONCAT_WS('', m1.surname,', ', m1.firstname) AS new_member, m1.recommendedby, CONCAT_WS('', m2.surname, ', ', m2.firstname) AS recommender\n",
    "#FROM Members AS m1\n",
    "#INNER JOIN Members AS m2\n",
    "#ON m1.recommendedby = m2.memid\n",
    "#WHERE m1.recommendedby <> 0\n",
    "#ORDER BY recommender;"
   ]
  },
  {
   "cell_type": "markdown",
   "id": "0cbbcc8f-931a-4c00-85a8-40419f28d92f",
   "metadata": {},
   "source": [
    "Q12: Find the facilities with their usage by member, but not guests"
   ]
  },
  {
   "cell_type": "code",
   "execution_count": 14,
   "id": "eda7a28c-b267-4212-a562-c08247c45247",
   "metadata": {
    "tags": []
   },
   "outputs": [],
   "source": [
    "#SELECT memid, COUNT(bookid)\n",
    "#FROM Facilities\n",
    "#INNER JOIN Bookings\n",
    "#ON Facilities.facid = Bookings.facid\n",
    "#WHERE memid <> 0\n",
    "#GROUP BY memid;"
   ]
  },
  {
   "cell_type": "markdown",
   "id": "f61393d1-2397-473c-aba0-eb53c834d4af",
   "metadata": {},
   "source": [
    "Q13: Find the facilities usage by month, but not guests"
   ]
  },
  {
   "cell_type": "code",
   "execution_count": 23,
   "id": "9863457b-b913-45a0-8464-6b7659f0a7f1",
   "metadata": {
    "tags": []
   },
   "outputs": [],
   "source": [
    "# This version works in MySQL\n",
    "#SELECT name, DATE_FORMAT(starttime, '%m-%Y') AS month, COUNT(bookid) AS num_bookings, COUNT(bookid)*slots AS slots_used\n",
    "#FROM Bookings\n",
    "#INNER JOIN Facilities\n",
    "#ON Bookings.facid = Facilities.facid\n",
    "#GROUP BY name, MONTH(starttime), YEAR(starttime);\n",
    "\n",
    "# This version works in SQLite\n",
    "#SELECT name, STRFTIME('%m-%Y', starttime) AS month, COUNT(bookid) AS num_bookings, COUNT(bookid)*slots AS slots_used\n",
    "#FROM Bookings\n",
    "#INNER JOIN Facilities\n",
    "#ON Bookings.facid = Facilities.facid\n",
    "#GROUP BY name, STRFTIME('%m-%Y', starttime);"
   ]
  },
  {
   "cell_type": "code",
   "execution_count": null,
   "id": "c7920de6-6549-4f17-a347-03348cd691ae",
   "metadata": {},
   "outputs": [],
   "source": []
  }
 ],
 "metadata": {
  "kernelspec": {
   "display_name": "Python 3 (ipykernel)",
   "language": "python",
   "name": "python3"
  },
  "language_info": {
   "codemirror_mode": {
    "name": "ipython",
    "version": 3
   },
   "file_extension": ".py",
   "mimetype": "text/x-python",
   "name": "python",
   "nbconvert_exporter": "python",
   "pygments_lexer": "ipython3",
   "version": "3.11.5"
  }
 },
 "nbformat": 4,
 "nbformat_minor": 5
}
