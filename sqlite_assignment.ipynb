{
 "cells": [
  {
   "cell_type": "code",
   "execution_count": 3,
   "id": "33ff039b-7102-4ee6-8d25-ecb09f9d5454",
   "metadata": {
    "tags": []
   },
   "outputs": [
    {
     "name": "stdout",
     "output_type": "stream",
     "text": [
      "2.6.0\n",
      "2. Query all tasks\n"
     ]
    },
    {
     "ename": "OperationalError",
     "evalue": "no such function: DECODE",
     "output_type": "error",
     "traceback": [
      "\u001b[0;31m---------------------------------------------------------------------------\u001b[0m",
      "\u001b[0;31mOperationalError\u001b[0m                          Traceback (most recent call last)",
      "Cell \u001b[0;32mIn[3], line 58\u001b[0m\n\u001b[1;32m     54\u001b[0m         select_all_tasks(conn)\n\u001b[1;32m     57\u001b[0m \u001b[38;5;28;01mif\u001b[39;00m \u001b[38;5;18m__name__\u001b[39m \u001b[38;5;241m==\u001b[39m \u001b[38;5;124m'\u001b[39m\u001b[38;5;124m__main__\u001b[39m\u001b[38;5;124m'\u001b[39m:\n\u001b[0;32m---> 58\u001b[0m     main()\n",
      "Cell \u001b[0;32mIn[3], line 54\u001b[0m, in \u001b[0;36mmain\u001b[0;34m()\u001b[0m\n\u001b[1;32m     52\u001b[0m \u001b[38;5;28;01mwith\u001b[39;00m conn: \n\u001b[1;32m     53\u001b[0m     \u001b[38;5;28mprint\u001b[39m(\u001b[38;5;124m\"\u001b[39m\u001b[38;5;124m2. Query all tasks\u001b[39m\u001b[38;5;124m\"\u001b[39m)\n\u001b[0;32m---> 54\u001b[0m     select_all_tasks(conn)\n",
      "Cell \u001b[0;32mIn[3], line 39\u001b[0m, in \u001b[0;36mselect_all_tasks\u001b[0;34m(conn)\u001b[0m\n\u001b[1;32m     27\u001b[0m cur \u001b[38;5;241m=\u001b[39m conn\u001b[38;5;241m.\u001b[39mcursor()\n\u001b[1;32m     29\u001b[0m query1 \u001b[38;5;241m=\u001b[39m \u001b[38;5;124m\"\"\"\u001b[39m\n\u001b[1;32m     30\u001b[0m \u001b[38;5;124m    SELECT name, guestcost, membercost, COUNT(Bookings.facid),\u001b[39m\n\u001b[1;32m     31\u001b[0m \u001b[38;5;124m    DECODE(memid, 0, COUNT(Bookings.facid)*guestcost,\u001b[39m\n\u001b[0;32m   (...)\u001b[0m\n\u001b[1;32m     37\u001b[0m \u001b[38;5;124m    GROUP BY name;\u001b[39m\n\u001b[1;32m     38\u001b[0m \u001b[38;5;124m    \u001b[39m\u001b[38;5;124m\"\"\"\u001b[39m\n\u001b[0;32m---> 39\u001b[0m cur\u001b[38;5;241m.\u001b[39mexecute(query1)\n\u001b[1;32m     41\u001b[0m rows \u001b[38;5;241m=\u001b[39m cur\u001b[38;5;241m.\u001b[39mfetchall()\n\u001b[1;32m     43\u001b[0m \u001b[38;5;28;01mfor\u001b[39;00m row \u001b[38;5;129;01min\u001b[39;00m rows:\n",
      "\u001b[0;31mOperationalError\u001b[0m: no such function: DECODE"
     ]
    }
   ],
   "source": [
    "import sqlite3\n",
    "from sqlite3 import Error\n",
    "\n",
    " \n",
    "def create_connection(db_file):\n",
    "    \"\"\" create a database connection to the SQLite database\n",
    "        specified by the db_file\n",
    "    :param db_file: database file\n",
    "    :return: Connection object or None\n",
    "    \"\"\"\n",
    "    conn = None\n",
    "    try:\n",
    "        conn = sqlite3.connect(db_file)\n",
    "        print(sqlite3.version)\n",
    "    except Error as e:\n",
    "        print(e)\n",
    " \n",
    "    return conn\n",
    "\n",
    " \n",
    "def select_all_tasks(conn):\n",
    "    \"\"\"\n",
    "    Query all rows in the tasks table\n",
    "    :param conn: the Connection object\n",
    "    :return:\n",
    "    \"\"\"\n",
    "    cur = conn.cursor()\n",
    "    \n",
    "    query1 = \"\"\"\n",
    "        SELECT name, guestcost, membercost, COUNT(Bookings.facid),\n",
    "        DECODE(memid, 0, COUNT(Bookings.facid)*guestcost,\n",
    "                        COUNT(Bookings.facid)*membercost)\n",
    "        \"Revenue\"\n",
    "        FROM Facilities\n",
    "        INNER JOIN Bookings\n",
    "        ON Facilities.facid = Bookings.facid\n",
    "        GROUP BY name;\n",
    "        \"\"\"\n",
    "    cur.execute(query1)\n",
    " \n",
    "    rows = cur.fetchall()\n",
    " \n",
    "    for row in rows:\n",
    "        print(row)\n",
    "\n",
    "\n",
    "def main():\n",
    "    database = \"sqlite_db_pythonsqlite.db\"\n",
    " \n",
    "    # create a database connection\n",
    "    conn = create_connection(database)\n",
    "    with conn: \n",
    "        print(\"2. Query all tasks\")\n",
    "        select_all_tasks(conn)\n",
    " \n",
    " \n",
    "if __name__ == '__main__':\n",
    "    main()"
   ]
  },
  {
   "cell_type": "markdown",
   "id": "639b7258-a38d-49b8-8f92-55f946ed4a18",
   "metadata": {
    "tags": []
   },
   "source": [
    "Q10: Produce a list of facilities with a total revenue less than 1000.\n",
    "The output of facility name and total revenue, sorted by revenue. Remember\n",
    "that there's a different cost for guests and members!"
   ]
  },
  {
   "cell_type": "code",
   "execution_count": null,
   "id": "24acb160-03ab-4981-92b3-9b46cd092d66",
   "metadata": {},
   "outputs": [],
   "source": [
    "SELECT name,\n",
    "CASE\n",
    "WHEN memid = 0 THEN (COUNT(Bookings.facid) * guestcost)\n",
    "    ELSE (COUNT(Bookings.facid) * membercost)\n",
    "    END \"Revenue\"\n",
    "FROM Facilities\n",
    "INNER JOIN Bookings\n",
    "ON Facilities.facid = Bookings.facid\n",
    "GROUP BY name;\n",
    "\n",
    "SELECT name, guestcost, membercost, COUNT(Bookings.facid), SUM(revenue) AS revenue_total\n",
    "CASE\n",
    "    WHEN Bookings.memid=0 \n",
    "    THEN COUNT(Bookings.facid) * guestcost\n",
    "    ELSE COUNT(Bookings.facid) * membercost\n",
    "    END AS 'revenue'\n",
    "FROM Facilities\n",
    "INNER JOIN Bookings\n",
    "ON Facilities.facid = Bookings.facid\n",
    "GROUP BY name;"
   ]
  },
  {
   "cell_type": "markdown",
   "id": "0420b712-19c0-4102-9db2-641dcf6d927e",
   "metadata": {},
   "source": [
    "Q11: Produce a report of members and who recommended them in alphabetic surname,firstname order"
   ]
  },
  {
   "cell_type": "code",
   "execution_count": 9,
   "id": "72e10739-39c7-43e2-a5c2-b380eb495ece",
   "metadata": {
    "tags": []
   },
   "outputs": [],
   "source": [
    "#SELECT CONCAT_WS('', m1.surname,', ', m1.firstname) AS new_member, m1.recommendedby, CONCAT_WS('', m2.surname, ', ', m2.firstname) AS recommender\n",
    "#FROM Members AS m1\n",
    "#INNER JOIN Members AS m2\n",
    "#ON m1.recommendedby = m2.memid\n",
    "#WHERE m1.recommendedby <> 0\n",
    "#ORDER BY recommender;"
   ]
  },
  {
   "cell_type": "markdown",
   "id": "0cbbcc8f-931a-4c00-85a8-40419f28d92f",
   "metadata": {},
   "source": [
    "Q12: Find the facilities with their usage by member, but not guests"
   ]
  },
  {
   "cell_type": "code",
   "execution_count": 14,
   "id": "eda7a28c-b267-4212-a562-c08247c45247",
   "metadata": {
    "tags": []
   },
   "outputs": [],
   "source": [
    "#SELECT memid, COUNT(bookid)\n",
    "#FROM Facilities\n",
    "#INNER JOIN Bookings\n",
    "#ON Facilities.facid = Bookings.facid\n",
    "#WHERE memid <> 0\n",
    "#GROUP BY memid;"
   ]
  },
  {
   "cell_type": "markdown",
   "id": "f61393d1-2397-473c-aba0-eb53c834d4af",
   "metadata": {},
   "source": [
    "Q13: Find the facilities usage by month, but not guests"
   ]
  },
  {
   "cell_type": "code",
   "execution_count": 23,
   "id": "9863457b-b913-45a0-8464-6b7659f0a7f1",
   "metadata": {
    "tags": []
   },
   "outputs": [],
   "source": [
    "# This version works in MySQL\n",
    "#SELECT name, DATE_FORMAT(starttime, '%m-%Y') AS month, COUNT(bookid) AS num_bookings, COUNT(bookid)*slots AS slots_used\n",
    "#FROM Bookings\n",
    "#INNER JOIN Facilities\n",
    "#ON Bookings.facid = Facilities.facid\n",
    "#GROUP BY name, MONTH(starttime), YEAR(starttime);\n",
    "\n",
    "# This version works in SQLite\n",
    "#SELECT name, STRFTIME('%m-%Y', starttime) AS month, COUNT(bookid) AS num_bookings, COUNT(bookid)*slots AS slots_used\n",
    "#FROM Bookings\n",
    "#INNER JOIN Facilities\n",
    "#ON Bookings.facid = Facilities.facid\n",
    "#GROUP BY name, STRFTIME('%m-%Y', starttime);"
   ]
  },
  {
   "cell_type": "code",
   "execution_count": null,
   "id": "c7920de6-6549-4f17-a347-03348cd691ae",
   "metadata": {},
   "outputs": [],
   "source": []
  }
 ],
 "metadata": {
  "kernelspec": {
   "display_name": "Python 3 (ipykernel)",
   "language": "python",
   "name": "python3"
  },
  "language_info": {
   "codemirror_mode": {
    "name": "ipython",
    "version": 3
   },
   "file_extension": ".py",
   "mimetype": "text/x-python",
   "name": "python",
   "nbconvert_exporter": "python",
   "pygments_lexer": "ipython3",
   "version": "3.11.5"
  }
 },
 "nbformat": 4,
 "nbformat_minor": 5
}
